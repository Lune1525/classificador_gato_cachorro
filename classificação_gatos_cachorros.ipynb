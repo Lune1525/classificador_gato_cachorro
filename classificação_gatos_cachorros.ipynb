{
  "nbformat": 4,
  "nbformat_minor": 0,
  "metadata": {
    "colab": {
      "provenance": [],
      "authorship_tag": "ABX9TyMw72M75f9JbhG2JBJ9GIl3",
      "include_colab_link": true
    },
    "kernelspec": {
      "name": "python3",
      "display_name": "Python 3"
    },
    "language_info": {
      "name": "python"
    }
  },
  "cells": [
    {
      "cell_type": "markdown",
      "metadata": {
        "id": "view-in-github",
        "colab_type": "text"
      },
      "source": [
        "<a href=\"https://colab.research.google.com/github/Lune1525/classificador_gato_cachorro/blob/main/classifica%C3%A7%C3%A3o_gatos_cachorros.ipynb\" target=\"_parent\"><img src=\"https://colab.research.google.com/assets/colab-badge.svg\" alt=\"Open In Colab\"/></a>"
      ]
    },
    {
      "cell_type": "code",
      "execution_count": null,
      "metadata": {
        "id": "SOtW7n3rAMRf"
      },
      "outputs": [],
      "source": [
        "from keras.models import Sequential\n",
        "from keras.layers import Dense, Flatten, Dropout\n",
        "from keras.layers import Conv2D, MaxPooling2D\n",
        "from keras.layers import BatchNormalization\n",
        "from tensorflow.keras.preprocessing.image import ImageDataGenerator\n"
      ]
    },
    {
      "cell_type": "code",
      "source": [
        "classificador = Sequential()\n",
        "classificador.add(Conv2D(32, (3,3), input_shape = (64, 64, 3), activation = 'relu'))\n",
        "classificador.add(BatchNormalization())\n",
        "\n",
        "classificador.add(Conv2D(32, (3,3) , activation='relu'))\n",
        "classificador.add(BatchNormalization())\n",
        "classificador.add(MaxPooling2D(pool_size=(2,2)))\n",
        "\n",
        "classificador.add(Flatten())\n",
        "\n",
        "classificador.add(Dense(units=128, activation='relu'))\n",
        "classificador.add(Dropout(0.2))\n",
        "classificador.add(Dense(units=128, activation='relu'))\n",
        "classificador.add(Dropout(0.2))\n",
        "classificador.add(Dense(units = 1, activation= 'sigmoid'))\n",
        "\n",
        "classificador.compile(optimizer='adam', loss='binary_crossentropy', metrics=['accuracy'])"
      ],
      "metadata": {
        "id": "Wy70BfQWAycr",
        "colab": {
          "base_uri": "https://localhost:8080/"
        },
        "outputId": "edb6fb77-0702-492d-9f86-a76fb54040c4"
      },
      "execution_count": null,
      "outputs": [
        {
          "output_type": "stream",
          "name": "stderr",
          "text": [
            "/usr/local/lib/python3.10/dist-packages/keras/src/layers/convolutional/base_conv.py:107: UserWarning: Do not pass an `input_shape`/`input_dim` argument to a layer. When using Sequential models, prefer using an `Input(shape)` object as the first layer in the model instead.\n",
            "  super().__init__(activity_regularizer=activity_regularizer, **kwargs)\n"
          ]
        }
      ]
    },
    {
      "cell_type": "code",
      "source": [
        "gerador_treinamento = ImageDataGenerator(rescale=1./255, rotation_range=7, horizontal_flip=True, shear_range=0.2, height_shift_range=0.07,zoom_range=0.2)"
      ],
      "metadata": {
        "id": "PW4L6E_OJkMH"
      },
      "execution_count": null,
      "outputs": []
    },
    {
      "cell_type": "code",
      "source": [
        "gerador_teste = ImageDataGenerator(rescale=1./255)"
      ],
      "metadata": {
        "id": "nBkfYByEKwIp"
      },
      "execution_count": null,
      "outputs": []
    },
    {
      "cell_type": "code",
      "source": [
        "from google.colab import drive\n",
        "\n",
        "drive.mount('/content/drive')"
      ],
      "metadata": {
        "colab": {
          "base_uri": "https://localhost:8080/"
        },
        "id": "_m3PH3Z0SJoS",
        "outputId": "72e1658a-3e10-444a-8ce3-0ffa58bd58a3"
      },
      "execution_count": null,
      "outputs": [
        {
          "output_type": "stream",
          "name": "stdout",
          "text": [
            "Mounted at /content/drive\n"
          ]
        }
      ]
    },
    {
      "cell_type": "code",
      "source": [
        "base_treinamento = gerador_treinamento.flow_from_directory('/content/drive/MyDrive/training_set', target_size=(64,64), batch_size=32, class_mode='binary')"
      ],
      "metadata": {
        "id": "31Mvckt7K1TO",
        "colab": {
          "base_uri": "https://localhost:8080/"
        },
        "outputId": "68c45bdd-57e9-4862-de49-97e13fb978de"
      },
      "execution_count": null,
      "outputs": [
        {
          "output_type": "stream",
          "name": "stdout",
          "text": [
            "Found 4014 images belonging to 2 classes.\n"
          ]
        }
      ]
    },
    {
      "cell_type": "code",
      "source": [
        "len(base_treinamento)"
      ],
      "metadata": {
        "colab": {
          "base_uri": "https://localhost:8080/"
        },
        "id": "VHChMLPsVabg",
        "outputId": "608fdfc6-0fbc-4428-81b2-3d6a8420ad43"
      },
      "execution_count": null,
      "outputs": [
        {
          "output_type": "execute_result",
          "data": {
            "text/plain": [
              "126"
            ]
          },
          "metadata": {},
          "execution_count": 7
        }
      ]
    },
    {
      "cell_type": "code",
      "source": [
        "base_teste = gerador_teste.flow_from_directory('/content/drive/MyDrive/test_set', target_size=(64,64), batch_size=32, class_mode='binary')"
      ],
      "metadata": {
        "id": "innwrP4IMJ4h",
        "colab": {
          "base_uri": "https://localhost:8080/"
        },
        "outputId": "ee76d42b-7102-4852-f3df-a3cdad7cf88a"
      },
      "execution_count": null,
      "outputs": [
        {
          "output_type": "stream",
          "name": "stdout",
          "text": [
            "Found 1000 images belonging to 2 classes.\n"
          ]
        }
      ]
    },
    {
      "cell_type": "code",
      "source": [
        "len(base_teste)"
      ],
      "metadata": {
        "id": "m_VIXbIQVeSW",
        "outputId": "7fb41ebf-456e-43a2-97e1-57366e7f39ae",
        "colab": {
          "base_uri": "https://localhost:8080/"
        }
      },
      "execution_count": null,
      "outputs": [
        {
          "output_type": "execute_result",
          "data": {
            "text/plain": [
              "32"
            ]
          },
          "metadata": {},
          "execution_count": 9
        }
      ]
    },
    {
      "cell_type": "code",
      "source": [
        "classificador.fit(\n",
        "    base_treinamento,\n",
        "    steps_per_epoch=4000,\n",
        "    epochs=15,\n",
        "    validation_data=base_teste,\n",
        "    validation_steps=1000\n",
        ")\n"
      ],
      "metadata": {
        "id": "OfASi_nlMd6B",
        "colab": {
          "base_uri": "https://localhost:8080/"
        },
        "outputId": "ba783e85-1b2a-4915-e347-34053018f1fd"
      },
      "execution_count": null,
      "outputs": [
        {
          "output_type": "stream",
          "name": "stdout",
          "text": [
            "Epoch 1/15\n",
            "\u001b[1m 126/4000\u001b[0m \u001b[37m━━━━━━━━━━━━━━━━━━━━\u001b[0m \u001b[1m34:56\u001b[0m 541ms/step - accuracy: 0.6028 - loss: 0.6574"
          ]
        },
        {
          "output_type": "stream",
          "name": "stderr",
          "text": [
            "/usr/lib/python3.10/contextlib.py:153: UserWarning: Your input ran out of data; interrupting training. Make sure that your dataset or generator can generate at least `steps_per_epoch * epochs` batches. You may need to use the `.repeat()` function when building your dataset.\n",
            "  self.gen.throw(typ, value, traceback)\n"
          ]
        },
        {
          "output_type": "stream",
          "name": "stdout",
          "text": [
            "\b\b\b\b\b\b\b\b\b\b\b\b\b\b\b\b\b\b\b\b\b\b\b\b\b\b\b\b\b\b\b\b\b\b\b\b\b\b\b\b\b\b\b\b\b\b\b\b\b\b\b\b\b\b\b\b\b\b\b\b\b\b\b\b\b\b\b\b\b\b\b\b\b\b\b\b\b\b\b\b\b\r\u001b[1m4000/4000\u001b[0m \u001b[32m━━━━━━━━━━━━━━━━━━━━\u001b[0m\u001b[37m\u001b[0m \u001b[1m80s\u001b[0m 20ms/step - accuracy: 0.6000 - loss: 0.6469 - val_accuracy: 0.6480 - val_loss: 0.6464\n",
            "Epoch 2/15\n",
            "\u001b[1m4000/4000\u001b[0m \u001b[32m━━━━━━━━━━━━━━━━━━━━\u001b[0m\u001b[37m\u001b[0m \u001b[1m79s\u001b[0m 19ms/step - accuracy: 0.5930 - loss: 0.6375 - val_accuracy: 0.6400 - val_loss: 0.6443\n",
            "Epoch 3/15\n",
            "\u001b[1m4000/4000\u001b[0m \u001b[32m━━━━━━━━━━━━━━━━━━━━\u001b[0m\u001b[37m\u001b[0m \u001b[1m83s\u001b[0m 19ms/step - accuracy: 0.6235 - loss: 0.6318 - val_accuracy: 0.6560 - val_loss: 0.5942\n",
            "Epoch 4/15\n",
            "\u001b[1m4000/4000\u001b[0m \u001b[32m━━━━━━━━━━━━━━━━━━━━\u001b[0m\u001b[37m\u001b[0m \u001b[1m76s\u001b[0m 19ms/step - accuracy: 0.6461 - loss: 0.6071 - val_accuracy: 0.5270 - val_loss: 0.7301\n",
            "Epoch 5/15\n",
            "\u001b[1m4000/4000\u001b[0m \u001b[32m━━━━━━━━━━━━━━━━━━━━\u001b[0m\u001b[37m\u001b[0m \u001b[1m84s\u001b[0m 19ms/step - accuracy: 0.6433 - loss: 0.6060 - val_accuracy: 0.5790 - val_loss: 0.6540\n",
            "Epoch 6/15\n",
            "\u001b[1m4000/4000\u001b[0m \u001b[32m━━━━━━━━━━━━━━━━━━━━\u001b[0m\u001b[37m\u001b[0m \u001b[1m82s\u001b[0m 20ms/step - accuracy: 0.6709 - loss: 0.5787 - val_accuracy: 0.6640 - val_loss: 0.6096\n",
            "Epoch 7/15\n",
            "\u001b[1m4000/4000\u001b[0m \u001b[32m━━━━━━━━━━━━━━━━━━━━\u001b[0m\u001b[37m\u001b[0m \u001b[1m76s\u001b[0m 18ms/step - accuracy: 0.6784 - loss: 0.5757 - val_accuracy: 0.6610 - val_loss: 0.6556\n",
            "Epoch 8/15\n",
            "\u001b[1m4000/4000\u001b[0m \u001b[32m━━━━━━━━━━━━━━━━━━━━\u001b[0m\u001b[37m\u001b[0m \u001b[1m83s\u001b[0m 19ms/step - accuracy: 0.6873 - loss: 0.5570 - val_accuracy: 0.7180 - val_loss: 0.5723\n",
            "Epoch 9/15\n",
            "\u001b[1m4000/4000\u001b[0m \u001b[32m━━━━━━━━━━━━━━━━━━━━\u001b[0m\u001b[37m\u001b[0m \u001b[1m77s\u001b[0m 19ms/step - accuracy: 0.6947 - loss: 0.5515 - val_accuracy: 0.6530 - val_loss: 0.5778\n",
            "Epoch 10/15\n",
            "\u001b[1m4000/4000\u001b[0m \u001b[32m━━━━━━━━━━━━━━━━━━━━\u001b[0m\u001b[37m\u001b[0m \u001b[1m81s\u001b[0m 19ms/step - accuracy: 0.7178 - loss: 0.5373 - val_accuracy: 0.6900 - val_loss: 0.5810\n",
            "Epoch 11/15\n",
            "\u001b[1m4000/4000\u001b[0m \u001b[32m━━━━━━━━━━━━━━━━━━━━\u001b[0m\u001b[37m\u001b[0m \u001b[1m83s\u001b[0m 19ms/step - accuracy: 0.7279 - loss: 0.5324 - val_accuracy: 0.7130 - val_loss: 0.5749\n",
            "Epoch 12/15\n",
            "\u001b[1m4000/4000\u001b[0m \u001b[32m━━━━━━━━━━━━━━━━━━━━\u001b[0m\u001b[37m\u001b[0m \u001b[1m78s\u001b[0m 19ms/step - accuracy: 0.7229 - loss: 0.5264 - val_accuracy: 0.6210 - val_loss: 0.7474\n",
            "Epoch 13/15\n",
            "\u001b[1m4000/4000\u001b[0m \u001b[32m━━━━━━━━━━━━━━━━━━━━\u001b[0m\u001b[37m\u001b[0m \u001b[1m76s\u001b[0m 18ms/step - accuracy: 0.7239 - loss: 0.5282 - val_accuracy: 0.7500 - val_loss: 0.5701\n",
            "Epoch 14/15\n",
            "\u001b[1m4000/4000\u001b[0m \u001b[32m━━━━━━━━━━━━━━━━━━━━\u001b[0m\u001b[37m\u001b[0m \u001b[1m87s\u001b[0m 19ms/step - accuracy: 0.7444 - loss: 0.5074 - val_accuracy: 0.7000 - val_loss: 0.5884\n",
            "Epoch 15/15\n",
            "\u001b[1m4000/4000\u001b[0m \u001b[32m━━━━━━━━━━━━━━━━━━━━\u001b[0m\u001b[37m\u001b[0m \u001b[1m79s\u001b[0m 19ms/step - accuracy: 0.7500 - loss: 0.5041 - val_accuracy: 0.7570 - val_loss: 0.5017\n"
          ]
        },
        {
          "output_type": "execute_result",
          "data": {
            "text/plain": [
              "<keras.src.callbacks.history.History at 0x7892a9153a90>"
            ]
          },
          "metadata": {},
          "execution_count": 36
        }
      ]
    },
    {
      "cell_type": "code",
      "source": [
        "import numpy as np\n",
        "from tensorflow.keras.preprocessing import image\n",
        "\n",
        "imagem_teste = image.load_img('/content/download.webp', target_size=(64,64))\n",
        "imagem_teste = image.img_to_array(imagem_teste)\n",
        "imagem_teste /= 255\n",
        "imagem_teste = np.expand_dims(imagem_teste, axis=0)"
      ],
      "metadata": {
        "id": "E-FsdNvvNNUG"
      },
      "execution_count": null,
      "outputs": []
    },
    {
      "cell_type": "code",
      "source": [
        "previsao = classificador.predict(imagem_teste)\n",
        "previsao = (previsao > 0.5)\n",
        "if previsao == True:\n",
        "  print('É um gato!')\n",
        "else:\n",
        "  print('É um cachorro!')"
      ],
      "metadata": {
        "id": "ZCD7r3OZQzAu",
        "colab": {
          "base_uri": "https://localhost:8080/"
        },
        "outputId": "0668a56c-ea09-4bfe-d1d9-89e8a6b1f56a"
      },
      "execution_count": null,
      "outputs": [
        {
          "output_type": "stream",
          "name": "stdout",
          "text": [
            "\u001b[1m1/1\u001b[0m \u001b[32m━━━━━━━━━━━━━━━━━━━━\u001b[0m\u001b[37m\u001b[0m \u001b[1m0s\u001b[0m 25ms/step\n",
            "É um gato!\n"
          ]
        }
      ]
    }
  ]
}